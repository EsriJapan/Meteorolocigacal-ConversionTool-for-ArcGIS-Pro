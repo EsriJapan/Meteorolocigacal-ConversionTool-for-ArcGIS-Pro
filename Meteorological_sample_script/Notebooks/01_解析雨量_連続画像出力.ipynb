{
 "cells": [
  {
   "cell_type": "markdown",
   "metadata": {
    "heading_collapsed": true
   },
   "source": [
    "## 01_解析雨量_連続画像出力"
   ]
  },
  {
   "cell_type": "markdown",
   "metadata": {
    "heading_collapsed": true,
    "hidden": true
   },
   "source": [
    "### 概要：\n",
    "ArcGIS Pro のプロジェクトのアクティブなマップで、気象データ変換ツールで変換した解析雨量のラスターレイヤーを、\n",
    "表示状態を1レイヤーごとに切り替えて、画像を連続出力するサンプルです。\n",
    "\n",
    " - 事前に画像出力される際の、ラスターレイヤーのシンボル、レイヤーのブレンド、透過表示などは調整しておく必要があります。"
   ]
  },
  {
   "cell_type": "markdown",
   "metadata": {},
   "source": [
    "## 連続画像出力のメイン部分"
   ]
  },
  {
   "cell_type": "markdown",
   "metadata": {},
   "source": [
    "### 変数定義（↓適宜修正してご利用下さい）"
   ]
  },
  {
   "cell_type": "code",
   "execution_count": 13,
   "metadata": {},
   "outputs": [],
   "source": [
    "# 変数定義\n",
    "img_folder = r\"ExportImg\" # 画像を出力するフォルダー名（現在のプロジェクト下にフォルダーが存在しない場合、自動的に作成）\n",
    "px_width = 1000 # 出力する png画像の幅（ピクセル数）\n",
    "px_height = 1000 # 出力する png画像の高さ（ピクセル数）"
   ]
  },
  {
   "cell_type": "markdown",
   "metadata": {},
   "source": [
    "### 前処理"
   ]
  },
  {
   "cell_type": "code",
   "execution_count": 14,
   "metadata": {},
   "outputs": [],
   "source": [
    "import os\n",
    "import sys\n",
    "import arcpy\n",
    "\n",
    "# 関数定義\n",
    "def anal_filename_to_short_filename(fullname):\n",
    "    \"\"\"\n",
    "    デフォルトで出力されるファイル名が長いので、次のように短縮したファイル名に変更\n",
    "    例）\n",
    "    Z__C_RJTD_20160103233000_SRF_GPV_Ggis1km_Prr60lv_ANAL_grib2.tif\n",
    "    →\n",
    "    Z__C_RJTD_20160103_2330_ANAL_grib2\n",
    "    \"\"\"\n",
    "    shortname = fullname[0:18] + \"_\" + fullname[18:22] + \"_\" + fullname[-14:-4]\n",
    "    return shortname\n",
    "\n",
    "# 現在のプロジェクトからmap と activeview を取得\n",
    "aprx = arcpy.mp.ArcGISProject(\"current\")\n",
    "m = aprx.activeMap\n",
    "mv = aprx.activeView\n",
    "# 画像を出力するフォルダーを、現在のプロジェクト直下に指定\n",
    "export_folder = os.path.join(aprx.homeFolder, img_folder)\n",
    "# フォルダーが存在しない場合は新規に作成\n",
    "if os.path.exists(export_folder) == False:\n",
    "    os.mkdir(export_folder)"
   ]
  },
  {
   "cell_type": "markdown",
   "metadata": {},
   "source": [
    "### 解析雨量のレイヤー名 \"Z__C_RJTD_*\" でフィルターし一覧を取得"
   ]
  },
  {
   "cell_type": "code",
   "execution_count": 15,
   "metadata": {},
   "outputs": [],
   "source": [
    "# 変換時のデフォルト設定の解析雨量のファイル名を想定\n",
    "# 変換時やマップに読み込み後にレイヤー名変更している場合は引数を要変更\n",
    "anal_layers = m.listLayers(\"Z__C_RJTD_*\")"
   ]
  },
  {
   "cell_type": "markdown",
   "metadata": {},
   "source": [
    "### 全てのレイヤーを表示をオフに設定後、レイヤー1つを表示状態にしながら画像出力します"
   ]
  },
  {
   "cell_type": "code",
   "execution_count": 16,
   "metadata": {},
   "outputs": [],
   "source": [
    "# 一旦、全てのレイヤーの表示状態をオフに設定\n",
    "for anal_layer in anal_layers:\n",
    "    anal_layer.visible = False"
   ]
  },
  {
   "cell_type": "code",
   "execution_count": 17,
   "metadata": {},
   "outputs": [],
   "source": [
    "# レイヤーを一つだけ表示状態に切替ながら画像を連続で出力\n",
    "cnt = len(anal_layers)\n",
    "for i in range(0, cnt):\n",
    "    anal_layer = anal_layers[i]\n",
    "    if i == 0:\n",
    "        anal_layers[i].visible = True\n",
    "    else:\n",
    "        anal_layers[i-1].visible = False\n",
    "        anal_layers[i].visible = True\n",
    "    export_fname = anal_filename_to_short_filename(anal_layer.name) + \".png\"\n",
    "    export_filename = os.path.join(export_folder, export_fname)\n",
    "    if arcpy.Exists(export_filename):\n",
    "        arcpy.AddWarning(u\"{} はすでに存在しているため出力をスキップします\".format(export_fname))\n",
    "    else:\n",
    "        mv.exportToPNG(export_filename, width=px_width, height=px_height)\n",
    "    if i == cnt-1:\n",
    "        anal_layers[i].visible = False"
   ]
  },
  {
   "cell_type": "code",
   "execution_count": null,
   "metadata": {},
   "outputs": [],
   "source": []
  }
 ],
 "metadata": {
  "kernelspec": {
   "display_name": "ArcGISPro",
   "language": "Python",
   "name": "python3"
  },
  "language_info": {
   "file_extension": ".py",
   "name": "python",
   "version": "3"
  }
 },
 "nbformat": 4,
 "nbformat_minor": 2
}
