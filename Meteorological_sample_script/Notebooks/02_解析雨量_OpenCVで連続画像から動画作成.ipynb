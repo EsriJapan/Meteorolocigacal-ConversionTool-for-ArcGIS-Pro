{
 "cells": [
  {
   "cell_type": "markdown",
   "metadata": {
    "heading_collapsed": true
   },
   "source": [
    "## 02_解析雨量_連続画像からOpenCVで動画作成"
   ]
  },
  {
   "cell_type": "markdown",
   "metadata": {
    "heading_collapsed": true,
    "hidden": true
   },
   "source": [
    "### 概要：\n",
    "\n",
    "「01_解析雨量_連続画像出力」で連続出力した画像に、日付時間テキストを追加後、動画を作成するサンプルです。\n",
    "- 使っているPython env にOpenCV をconda か pip でインストールしておく必要があります。\n",
    "\n",
    "> conda install opencv  \n",
    "\n",
    "or  \n",
    "\n",
    "> pip install opencv-python  "
   ]
  },
  {
   "cell_type": "markdown",
   "metadata": {},
   "source": [
    "## 連続画像から動画作成のメイン部分"
   ]
  },
  {
   "cell_type": "markdown",
   "metadata": {},
   "source": [
    "### 変数定義（↓適宜修正してご利用下さい）"
   ]
  },
  {
   "cell_type": "code",
   "execution_count": 7,
   "metadata": {},
   "outputs": [],
   "source": [
    "img_folder = r\"ExportImg\" # 01_解析雨量_連続画像出力で指定した画像を出力するフォルダー名\n",
    "tmp_folder = r\"temp\" # 動画作成前に日付時間テキストを追加したpng画像を保存するテンポラリフォルダー名\n",
    "\n",
    "# 時間テキストに関する部分\n",
    "txt_org = (500,800) # 時間テキストを表示する左下の位置\n",
    "ft_scale = 1.0 # 時間テキストのフォントスケール\n",
    "ft_color = (0,0,0) # 時間テキストの色(r,g,b)で指定\n",
    "ft_thicknass = 1 # 時間テキストの線の太さ\n",
    "bl_use_jst = False # デフォルトは世界標準時のFalse。日本標準時へ変換した時間テキストにしたい場合はTrueに変更\n",
    "\n",
    "# 動画関連\n",
    "video_file_name = r\"imgvideo.mp4\" #r\"imgvideo_jst.mp4\" # 動画ファイル名（形式はmp4）\n",
    "video_fps = 5 # フレームレート（fps）"
   ]
  },
  {
   "cell_type": "markdown",
   "metadata": {},
   "source": [
    "### 前処理"
   ]
  },
  {
   "cell_type": "code",
   "execution_count": 8,
   "metadata": {},
   "outputs": [],
   "source": [
    "import os\n",
    "import arcpy\n",
    "import cv2\n",
    "import glob\n",
    "import shutil\n",
    "from datetime import datetime,timedelta,timezone\n",
    "\n",
    "# 関数定義\n",
    "def short_filename_to_utc_timestamp(short_filename):\n",
    "    \"\"\"\n",
    "    短縮したファイル名から datetime型(utc)に変換\n",
    "    例）\n",
    "    Z__C_RJTD_20160103_2330_ANAL_grib2\n",
    "    →\n",
    "    20160103_2330\n",
    "    →\n",
    "    datetime型(utc) に変更\n",
    "    \"\"\"\n",
    "    str_datetime = short_filename[10:23] #20160103_2330\n",
    "    year = int(str_datetime[0:4])\n",
    "    month = int(str_datetime[4:6])\n",
    "    day = int(str_datetime[6:8])\n",
    "    hour = int(str_datetime[9:11])\n",
    "    minute = int(str_datetime[11:13])\n",
    "    utc_timestamp = datetime(year=year, month=month, day=day, hour=hour, minute=minute, tzinfo=timezone.utc)\n",
    "    return utc_timestamp\n",
    "\n",
    "def utc_to_jst_timestamp(utc_timestamp):\n",
    "    \"\"\"\n",
    "    datetime型(utc) からdatetime型(jst)  に変換\n",
    "    \"\"\"\n",
    "    JST = timezone(timedelta(hours=+9))\n",
    "    return utc_timestamp.astimezone(JST)\n",
    "\n",
    "#サンプルケース\n",
    "#shortname=\"Z__C_RJTD_20160103_2330_ANAL_grib2\"\n",
    "#utc_dt=short_filename_to_utc_timestamp(shortname)\n",
    "#utc_dt.strftime('%Y-%m-%d %H:%M:%S')\n",
    "#jst_dt=utc_to_jst_timestamp(utc_dt)\n",
    "#jst_dt.strftime('%Y-%m-%d %H:%M:%S')\n",
    "\n",
    "# 現在のプロジェクトからmap と activeview を取得\n",
    "aprx = arcpy.mp.ArcGISProject(\"current\")\n",
    "m = aprx.activeMap\n",
    "mv = aprx.activeView\n",
    "# 画像を出力してあるフォルダーを、現在のプロジェクト直下に指定\n",
    "export_folder = os.path.join(aprx.homeFolder,img_folder)\n",
    "temp_folder = os.path.join(export_folder, tmp_folder)\n",
    "# テンポラリフォルダーが存在しない場合は新規に作成\n",
    "if os.path.exists(temp_folder) == False:\n",
    "    os.mkdir(temp_folder)\n",
    "# ビデオファイルが存在する場合は削除\n",
    "video_file = os.path.join(export_folder, video_file_name)\n",
    "if os.path.exists(video_file):\n",
    "    os.remove(video_file)"
   ]
  },
  {
   "cell_type": "markdown",
   "metadata": {},
   "source": [
    "### 連続画像のファイル一覧を取得し、ファイル名をもとに日付時間テキストを追加した画像をテンポラリフォルダーに保存\n",
    "\n",
    "OpenCV -> putText()  \n",
    " - img : Image.\n",
    " - text : Text string to be drawn.\n",
    " - org : Bottom-left corner of the text string in the image.\n",
    " - fontFace : Font type, see [HersheyFonts](https://docs.opencv.org/4.x/d6/d6e/group__imgproc__draw.html#ga0f9314ea6e35f99bb23f29567fc16e11) .\n",
    " - fonrScale : Font scale factor that is multiplied by the font-specific base size.\n",
    " - color : Text color.\n",
    " - thicknass : \tThickness of the lines used to draw a text.\n",
    " - lineType : Line type. See [LineTypes](https://docs.opencv.org/4.x/d6/d6e/group__imgproc__draw.html#gaf076ef45de481ac96e0ab3dc2c29a777) .\n",
    " - bottomLeftOrigin : When true, the image data origin is at the bottom-left corner. Otherwise, it is at the top-left corner.\n",
    "  \n",
    "https://docs.opencv.org/4.x/d6/d6e/group__imgproc__draw.html#ga5126f47f883d730f633d74f07456c576"
   ]
  },
  {
   "cell_type": "code",
   "execution_count": 9,
   "metadata": {},
   "outputs": [],
   "source": [
    "pngfiles = glob.glob(export_folder + \"/*.png\") # 画像の一覧を取得\n",
    "for filename in pngfiles:\n",
    "    img = cv2.imread(filename) # ファイルをイメージに読込み\n",
    "    base_filename = os.path.basename(filename)\n",
    "    out_dt = short_filename_to_utc_timestamp(base_filename) #ファイル名から世界標準時のTimeStampへ変換\n",
    "    if bl_use_jst: #日本標準時の場合は変換\n",
    "        out_dt =  utc_to_jst_timestamp(out_dt)\n",
    "    cv2.putText(img,\n",
    "                text=out_dt.strftime('%Y-%m-%d %H:%M:%S'),\n",
    "                org=txt_org,\n",
    "                fontFace=cv2.FONT_HERSHEY_SIMPLEX,\n",
    "                fontScale=ft_scale,\n",
    "                color=ft_color,\n",
    "                thickness=ft_thicknass,\n",
    "                lineType=cv2.LINE_4 )\n",
    "    new_filename = os.path.join(temp_folder, base_filename)\n",
    "    cv2.imwrite(new_filename, img) #テンポラリフォルダーへ保存"
   ]
  },
  {
   "cell_type": "markdown",
   "metadata": {},
   "source": [
    "### テンポラリフォルダーから画像一覧を取得しソート後、arrayに格納"
   ]
  },
  {
   "cell_type": "code",
   "execution_count": 10,
   "metadata": {},
   "outputs": [],
   "source": [
    "#フォルダーから*.pngファイルの一覧を取得してソートします\n",
    "tm_pngfiles = glob.glob(temp_folder + \"/*.png\")\n",
    "tm_pngfiles = sorted(tm_pngfiles)\n",
    "\n",
    "#arrayに画像ファイルを格納\n",
    "img_array = []\n",
    "for tm_pngfile in tm_pngfiles:\n",
    "    img = cv2.imread(tm_pngfile)\n",
    "    height, width, layers = img.shape\n",
    "    size = (width, height)\n",
    "    img_array.append(img)"
   ]
  },
  {
   "cell_type": "markdown",
   "metadata": {},
   "source": [
    "### mp4の動画を作成します\n",
    "\n",
    "OpenCV -> VideoWriter()\n",
    " - filename : Name of the output video file.\n",
    " - fourcc : 4-character code of codec used to compress the frames.\n",
    " - fps : Framerate of the created video stream.\n",
    " - frameSize : Size of the video frames.\n",
    " - isColor : If it is not zero, the encoder will expect and encode color frames, otherwise it will work with grayscale frames\n",
    "\n",
    "https://docs.opencv.org/3.4/dd/d9e/classcv_1_1VideoWriter.html#ad59c61d8881ba2b2da22cff5487465b5"
   ]
  },
  {
   "cell_type": "code",
   "execution_count": 11,
   "metadata": {},
   "outputs": [],
   "source": [
    "# mp4のコーデックを指定してvideoWriterのインスタンス作成し、imgを追加\n",
    "fourcc = cv2.VideoWriter_fourcc(*'mp4v')\n",
    "video = cv2.VideoWriter(filename=video_file, fourcc=fourcc, fps=video_fps, frameSize=size)\n",
    "for img in img_array:\n",
    "    video.write(img)\n",
    "cv2.destroyAllWindows()\n",
    "video.release()\n",
    "del img_array"
   ]
  },
  {
   "cell_type": "markdown",
   "metadata": {},
   "source": [
    "### テンポラリフォルダーの後始末"
   ]
  },
  {
   "cell_type": "code",
   "execution_count": 12,
   "metadata": {},
   "outputs": [],
   "source": [
    "# 中身のファイルごとテンポラリフォルダーを削除\n",
    "shutil.rmtree(temp_folder)"
   ]
  }
 ],
 "metadata": {
  "kernelspec": {
   "display_name": "ArcGISPro",
   "language": "Python",
   "name": "python3"
  },
  "language_info": {
   "file_extension": ".py",
   "name": "python",
   "version": "3"
  }
 },
 "nbformat": 4,
 "nbformat_minor": 2
}
